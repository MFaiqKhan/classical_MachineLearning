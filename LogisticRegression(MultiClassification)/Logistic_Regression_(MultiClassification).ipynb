{
  "cells": [
    {
      "cell_type": "markdown",
      "metadata": {
        "id": "RcRYXnbTtXMe"
      },
      "source": [
        "A classifier is a machine learning algorithm that is trained to learn patterns in data and then make predictions about new, unseen data based on those patterns. In other words, a classifier takes in input data, learns to map the input data to corresponding output labels, and then can be used to predict the labels for new input data.\n",
        "\n",
        "One method for multi-class classification is the \"one-vs-rest\" (OvR) approach, also known as \"one-vs-all\". In OvR, a binary classifier is trained for each class, which tries to distinguish that class from all other classes combined. For example, if we have a 3-class classification problem with classes A, B, and C, then we would train three binary classifiers: one to distinguish A from B+C, one to distinguish B from A+C, and one to distinguish C from A+B.\n",
        "\n",
        "During prediction, each binary classifier is applied to the input data, and the class with the highest score or probability is selected as the final prediction. OvR can work well for problems where the classes are well-separated, but can struggle with more complex decision boundaries where the classes overlap or are closely related.\n",
        "\n",
        "In practice, many machine learning algorithms and libraries, such as scikit-learn, provide built-in support for OvR classification. In scikit-learn, we can use the OneVsRestClassifier class to train a multi-class classifier using the OvR strategy. This class takes as input any binary classifier and creates a multi-class classifier by training a separate binary classifier for each class using the OvR approach."
      ]
    },
    {
      "attachments": {},
      "cell_type": "markdown",
      "metadata": {},
      "source": [
        "In logistic regression for the digits dataset, we can use the OvR approach to perform multi-class classification. This involves training 10 binary classifiers, where each classifier is trained to distinguish one digit class from all other classes combined.\n",
        "\n",
        "During training, for each binary classifier, we fit a logistic regression model using the training data. The input features are the pixel values of the image, and the binary target variable is 1 if the image corresponds to the digit class we are interested in, and 0 otherwise.\n",
        "\n",
        "During prediction, we apply all 10 binary classifiers to the input data and obtain a probability score for each class. The class with the highest probability score is selected as the final prediction.\n",
        "\n",
        "For example, if we want to predict whether an image corresponds to the digit \"4\", we would use the binary classifier that was trained to distinguish \"4\" from all other digits. This classifier would output a probability score for the \"4\" class and for all other classes. We would select the class with the highest score as the final prediction.\n",
        "\n",
        "The OvR approach in logistic regression for the digits dataset works well because the digit classes are relatively well-separated and distinct from each other. However, it may struggle with more complex decision boundaries where the classes overlap or are closely related. In such cases, other approaches such as the \"softmax\" approach or support vector machines (SVMs) may be more effective.\n",
        "\n",
        "In the context of logistic regression for the digits dataset, a binary classifier is a model that is trained to classify a single digit class from all other classes combined. For example, if we want to classify the digit \"4\", we would train a binary classifier that distinguishes \"4\" from all other digits (i.e., \"0\", \"1\", \"2\", \"3\", \"5\", \"6\", \"7\", \"8\", \"9\").\n",
        "\n",
        "The binary classifier is a logistic regression model that takes as input the pixel values of an image and outputs a probability score for the digit class we are interested in. The binary target variable is 1 if the image corresponds to the digit class we are interested in (i.e., \"4\"), and 0 otherwise.\n",
        "\n",
        "During training, we fit the logistic regression model using a labeled dataset of images and their corresponding digit classes. The model learns to distinguish the digit class we are interested in from all other classes combined.\n",
        "\n",
        "During prediction, we apply the binary classifier to a new image and obtain a probability score for the digit class .\n",
        "\n",
        "Here is an example of a binary classifier function for the digit 4 using logistic regression in Python:\n",
        "\n",
        "```\n",
        "from sklearn.linear_model import LogisticRegression\n",
        "\n",
        "def binary_classifier_4(X_train, y_train, X_test):\n",
        "    # Filter the training set to only include examples of digit 4\n",
        "    X_train_4 = X_train[y_train == 4]\n",
        "    y_train_4 = y_train[y_train == 4]\n",
        "\n",
        "    # Fit a logistic regression model to the training set\n",
        "    model = LogisticRegression()\n",
        "    model.fit(X_train_4, y_train_4)\n",
        "\n",
        "    # Make predictions on the test set\n",
        "    y_pred = model.predict(X_test)\n",
        "\n",
        "    # Return the predicted class labels (0 or 1)\n",
        "    return y_pred\n",
        "```\n",
        "\n",
        "This function takes in the training data (X_train and y_train) and the test data (X_test) as input. It first filters the training set to only include examples of the digit 4, and then fits a logistic regression model to this filtered dataset. Finally, it makes predictions on the test set and returns the predicted class labels (0 or 1). A predicted label of 1 indicates that the input image is classified as a 4, while a predicted label of 0 indicates that it is not a 4."
      ]
    },
    {
      "cell_type": "code",
      "execution_count": null,
      "metadata": {
        "id": "pmmVouLIvLkP"
      },
      "outputs": [],
      "source": [
        "%matplotlib inline\n",
        "import matplotlib.pyplot as plt\n",
        "from sklearn.datasets import load_digits\n"
      ]
    },
    {
      "cell_type": "code",
      "execution_count": null,
      "metadata": {
        "id": "eex_dvPaNJXo"
      },
      "outputs": [],
      "source": [
        "digits = load_digits()\n"
      ]
    },
    {
      "cell_type": "code",
      "execution_count": null,
      "metadata": {
        "colab": {
          "base_uri": "https://localhost:8080/"
        },
        "id": "RwMtCFNTNcq2",
        "outputId": "725c0fab-7797-4e0b-9107-cbf8697ba6e2"
      },
      "outputs": [
        {
          "data": {
            "text/plain": [
              "['DESCR', 'data', 'feature_names', 'frame', 'images', 'target', 'target_names']"
            ]
          },
          "execution_count": 82,
          "metadata": {},
          "output_type": "execute_result"
        }
      ],
      "source": [
        "dir(digits) # The dir(digits) function returns a list of all the attributes and methods associated with the digits object."
      ]
    },
    {
      "cell_type": "markdown",
      "metadata": {
        "id": "tFtsmr2mNyLw"
      },
      "source": [
        "The dir(digits) function returns a list of all the attributes and methods associated with the digits object. Here is a brief description of each attribute and method:\n",
        "\n",
        "**DESCR**: A description of the dataset.\n",
        "\n",
        "**data:** The data associated with the dataset. In the case of the digits dataset, this is a 2D array of pixel values for each image.\n",
        "\n",
        "**feature_names:** The names of the features in the dataset. In this case, there are no feature names as the dataset only consists of pixel values.\n",
        "\n",
        "**frame:** This attribute is not relevant to this dataset.\n",
        "\n",
        "**images:** A 3D array of the image data. Each image is a 2D array of pixel values.\n",
        "\n",
        "**target:** The target variable for the dataset, i.e., the digit represented in each image.\n",
        "\n",
        "**target_names:** A list of the possible target values. In this case, the possible\n",
        "values are the digits 0 through 9.\n"
      ]
    },
    {
      "cell_type": "code",
      "execution_count": null,
      "metadata": {
        "colab": {
          "base_uri": "https://localhost:8080/"
        },
        "id": "MWfr29ZiR-Wi",
        "outputId": "888ecdde-04db-4b15-88cf-1671284c2fd0"
      },
      "outputs": [
        {
          "data": {
            "text/plain": [
              "array([ 0.,  0.,  5., 13.,  9.,  1.,  0.,  0.,  0.,  0., 13., 15., 10.,\n",
              "       15.,  5.,  0.,  0.,  3., 15.,  2.,  0., 11.,  8.,  0.,  0.,  4.,\n",
              "       12.,  0.,  0.,  8.,  8.,  0.,  0.,  5.,  8.,  0.,  0.,  9.,  8.,\n",
              "        0.,  0.,  4., 11.,  0.,  1., 12.,  7.,  0.,  0.,  2., 14.,  5.,\n",
              "       10., 12.,  0.,  0.,  0.,  0.,  6., 13., 10.,  0.,  0.,  0.])"
            ]
          },
          "execution_count": 83,
          "metadata": {},
          "output_type": "execute_result"
        }
      ],
      "source": [
        "digits.data[0] # 8 by 8 image turned into arrays of 64 numbers"
      ]
    },
    {
      "cell_type": "code",
      "execution_count": null,
      "metadata": {
        "colab": {
          "base_uri": "https://localhost:8080/",
          "height": 1000
        },
        "id": "-_AyRkooU958",
        "outputId": "9191dd12-f1a4-41a6-b4eb-6a94d2926e4f"
      },
      "outputs": [
        {
          "data": {
            "text/plain": [
              "<Figure size 432x288 with 0 Axes>"
            ]
          },
          "metadata": {},
          "output_type": "display_data"
        },
        {
          "data": {
            "image/png": "[encoded data removed]",
            "text/plain": [
              "<Figure size 288x288 with 1 Axes>"
            ]
          },
          "metadata": {
            "needs_background": "light"
          },
          "output_type": "display_data"
        },
        {
          "data": {
            "image/png": "[encoded data removed]",
            "text/plain": [
              "<Figure size 288x288 with 1 Axes>"
            ]
          },
          "metadata": {
            "needs_background": "light"
          },
          "output_type": "display_data"
        },
        {
          "data": {
            "image/png": "[encoded data removed]",
            "text/plain": [
              "<Figure size 288x288 with 1 Axes>"
            ]
          },
          "metadata": {
            "needs_background": "light"
          },
          "output_type": "display_data"
        },
        {
          "data": {
            "image/png": "[encoded data removed]",
            "text/plain": [
              "<Figure size 288x288 with 1 Axes>"
            ]
          },
          "metadata": {
            "needs_background": "light"
          },
          "output_type": "display_data"
        },
        {
          "data": {
            "image/png": "[encoded data removed]",
            "text/plain": [
              "<Figure size 288x288 with 1 Axes>"
            ]
          },
          "metadata": {
            "needs_background": "light"
          },
          "output_type": "display_data"
        }
      ],
      "source": [
        "plt.gray()\n",
        "for i in range(5):\n",
        "  plt.matshow(digits.images[i])"
      ]
    },
    {
      "cell_type": "markdown",
      "metadata": {
        "id": "rLVRTsovVtvC"
      },
      "source": [
        "`plt.gray()` is a function in the matplotlib library that sets the colormap to grayscale. It is commonly used when displaying grayscale images.\n",
        "\n",
        "`plt.matshow()` is a function in the matplotlib library that displays a matrix as an image. It can be used to visualize matrices and their values using a color map. The color of each pixel in the image represents the corresponding value of the matrix element at that position. By default, the function uses the colormap 'viridis' to map the matrix values to colors. The function can be used to visualize a wide range of matrices, including confusion matrices, correlation matrices, and images represented as matrices."
      ]
    },
    {
      "cell_type": "code",
      "execution_count": null,
      "metadata": {
        "colab": {
          "base_uri": "https://localhost:8080/"
        },
        "id": "vk7LGeSbW_n4",
        "outputId": "70f3d21f-ae6b-4d40-f22c-e888e43b7bd7"
      },
      "outputs": [
        {
          "data": {
            "text/plain": [
              "array([0, 1, 2, 3, 4])"
            ]
          },
          "execution_count": 85,
          "metadata": {},
          "output_type": "execute_result"
        }
      ],
      "source": [
        "digits.target[0:5]"
      ]
    },
    {
      "cell_type": "markdown",
      "metadata": {
        "id": "XptFdC0LXY1P"
      },
      "source": [
        "will be using data and target to train our data set. \n",
        "target variable tells us the number \n",
        "data is the image converted into an array .\n",
        "target is used to tell what is the number basically"
      ]
    },
    {
      "cell_type": "code",
      "execution_count": null,
      "metadata": {
        "id": "lCMLTpXNXqWq"
      },
      "outputs": [],
      "source": [
        "from sklearn.model_selection import train_test_split\n",
        "# because we dont want to overfit or make our model bias.\n",
        "X_train, X_test, y_train, y_test = train_test_split(digits.data, digits.target, test_size = 0.2)\n"
      ]
    },
    {
      "cell_type": "code",
      "execution_count": null,
      "metadata": {
        "colab": {
          "base_uri": "https://localhost:8080/"
        },
        "id": "UyQqYYzGYZ1r",
        "outputId": "82cacd0c-07d7-4f5c-f3b8-ede046b159c2"
      },
      "outputs": [
        {
          "data": {
            "text/plain": [
              "(1437, 360, 1437, 360)"
            ]
          },
          "execution_count": 87,
          "metadata": {},
          "output_type": "execute_result"
        }
      ],
      "source": [
        "len(X_train), len(X_test), len(y_train), len(y_test)"
      ]
    },
    {
      "cell_type": "code",
      "execution_count": null,
      "metadata": {
        "id": "bcVHEe1GYt39"
      },
      "outputs": [],
      "source": [
        "from sklearn.linear_model import LogisticRegression\n",
        "model = LogisticRegression()"
      ]
    },
    {
      "cell_type": "code",
      "execution_count": null,
      "metadata": {
        "colab": {
          "base_uri": "https://localhost:8080/",
          "height": 74
        },
        "id": "YUWYsd2vaB5m",
        "outputId": "bf0637ca-581a-4d70-a98a-a8250d26004e"
      },
      "outputs": [
        {
          "data": {
            "text/html": [
              "<style>#sk-container-id-7 {color: black;background-color: white;}#sk-container-id-7 pre{padding: 0;}#sk-container-id-7 div.sk-toggleable {background-color: white;}#sk-container-id-7 label.sk-toggleable__label {cursor: pointer;display: block;width: 100%;margin-bottom: 0;padding: 0.3em;box-sizing: border-box;text-align: center;}#sk-container-id-7 label.sk-toggleable__label-arrow:before {content: \"▸\";float: left;margin-right: 0.25em;color: #696969;}#sk-container-id-7 label.sk-toggleable__label-arrow:hover:before {color: black;}#sk-container-id-7 div.sk-estimator:hover label.sk-toggleable__label-arrow:before {color: black;}#sk-container-id-7 div.sk-toggleable__content {max-height: 0;max-width: 0;overflow: hidden;text-align: left;background-color: #f0f8ff;}#sk-container-id-7 div.sk-toggleable__content pre {margin: 0.2em;color: black;border-radius: 0.25em;background-color: #f0f8ff;}#sk-container-id-7 input.sk-toggleable__control:checked~div.sk-toggleable__content {max-height: 200px;max-width: 100%;overflow: auto;}#sk-container-id-7 input.sk-toggleable__control:checked~label.sk-toggleable__label-arrow:before {content: \"▾\";}#sk-container-id-7 div.sk-estimator input.sk-toggleable__control:checked~label.sk-toggleable__label {background-color: #d4ebff;}#sk-container-id-7 div.sk-label input.sk-toggleable__control:checked~label.sk-toggleable__label {background-color: #d4ebff;}#sk-container-id-7 input.sk-hidden--visually {border: 0;clip: rect(1px 1px 1px 1px);clip: rect(1px, 1px, 1px, 1px);height: 1px;margin: -1px;overflow: hidden;padding: 0;position: absolute;width: 1px;}#sk-container-id-7 div.sk-estimator {font-family: monospace;background-color: #f0f8ff;border: 1px dotted black;border-radius: 0.25em;box-sizing: border-box;margin-bottom: 0.5em;}#sk-container-id-7 div.sk-estimator:hover {background-color: #d4ebff;}#sk-container-id-7 div.sk-parallel-item::after {content: \"\";width: 100%;border-bottom: 1px solid gray;flex-grow: 1;}#sk-container-id-7 div.sk-label:hover label.sk-toggleable__label {background-color: #d4ebff;}#sk-container-id-7 div.sk-serial::before {content: \"\";position: absolute;border-left: 1px solid gray;box-sizing: border-box;top: 0;bottom: 0;left: 50%;z-index: 0;}#sk-container-id-7 div.sk-serial {display: flex;flex-direction: column;align-items: center;background-color: white;padding-right: 0.2em;padding-left: 0.2em;position: relative;}#sk-container-id-7 div.sk-item {position: relative;z-index: 1;}#sk-container-id-7 div.sk-parallel {display: flex;align-items: stretch;justify-content: center;background-color: white;position: relative;}#sk-container-id-7 div.sk-item::before, #sk-container-id-7 div.sk-parallel-item::before {content: \"\";position: absolute;border-left: 1px solid gray;box-sizing: border-box;top: 0;bottom: 0;left: 50%;z-index: -1;}#sk-container-id-7 div.sk-parallel-item {display: flex;flex-direction: column;z-index: 1;position: relative;background-color: white;}#sk-container-id-7 div.sk-parallel-item:first-child::after {align-self: flex-end;width: 50%;}#sk-container-id-7 div.sk-parallel-item:last-child::after {align-self: flex-start;width: 50%;}#sk-container-id-7 div.sk-parallel-item:only-child::after {width: 0;}#sk-container-id-7 div.sk-dashed-wrapped {border: 1px dashed gray;margin: 0 0.4em 0.5em 0.4em;box-sizing: border-box;padding-bottom: 0.4em;background-color: white;}#sk-container-id-7 div.sk-label label {font-family: monospace;font-weight: bold;display: inline-block;line-height: 1.2em;}#sk-container-id-7 div.sk-label-container {text-align: center;}#sk-container-id-7 div.sk-container {/* jupyter's `normalize.less` sets `[hidden] { display: none; }` but bootstrap.min.css set `[hidden] { display: none !important; }` so we also need the `!important` here to be able to override the default hidden behavior on the sphinx rendered scikit-learn.org. See: https://github.com/scikit-learn/scikit-learn/issues/21755 */display: inline-block !important;position: relative;}#sk-container-id-7 div.sk-text-repr-fallback {display: none;}</style><div id=\"sk-container-id-7\" class=\"sk-top-container\"><div class=\"sk-text-repr-fallback\"><pre>LogisticRegression(max_iter=10000, multi_class=&#x27;ovr&#x27;)</pre><b>In a Jupyter environment, please rerun this cell to show the HTML representation or trust the notebook. <br />On GitHub, the HTML representation is unable to render, please try loading this page with nbviewer.org.</b></div><div class=\"sk-container\" hidden><div class=\"sk-item\"><div class=\"sk-estimator sk-toggleable\"><input class=\"sk-toggleable__control sk-hidden--visually\" id=\"sk-estimator-id-7\" type=\"checkbox\" checked><label for=\"sk-estimator-id-7\" class=\"sk-toggleable__label sk-toggleable__label-arrow\">LogisticRegression</label><div class=\"sk-toggleable__content\"><pre>LogisticRegression(max_iter=10000, multi_class=&#x27;ovr&#x27;)</pre></div></div></div></div></div>"
            ],
            "text/plain": [
              "LogisticRegression(max_iter=10000, multi_class='ovr')"
            ]
          },
          "execution_count": 89,
          "metadata": {},
          "output_type": "execute_result"
        }
      ],
      "source": [
        "model = LogisticRegression(multi_class='ovr', max_iter=10000)\n",
        "model.fit(X_train,y_train)"
      ]
    },
    {
      "cell_type": "code",
      "execution_count": null,
      "metadata": {
        "colab": {
          "base_uri": "https://localhost:8080/"
        },
        "id": "jGWrTLD3a07E",
        "outputId": "c13d8b23-b67b-41d0-8637-ea87eae6e90a"
      },
      "outputs": [
        {
          "data": {
            "text/plain": [
              "0.9611111111111111"
            ]
          },
          "execution_count": 90,
          "metadata": {},
          "output_type": "execute_result"
        }
      ],
      "source": [
        "model.score(X_test,y_test) # calculating X_test values and comparing it to y_test values to evalute the accuracy of\n",
        "# trained model"
      ]
    },
    {
      "cell_type": "code",
      "execution_count": null,
      "metadata": {
        "colab": {
          "base_uri": "https://localhost:8080/",
          "height": 293
        },
        "id": "QnsIg5cObGLk",
        "outputId": "53968be6-c134-41d4-e011-2bf2095791dd"
      },
      "outputs": [
        {
          "data": {
            "text/plain": [
              "<matplotlib.image.AxesImage at 0x7f303fe85550>"
            ]
          },
          "execution_count": 91,
          "metadata": {},
          "output_type": "execute_result"
        },
        {
          "data": {
            "image/png": "[encoded data removed]",
            "text/plain": [
              "<Figure size 288x288 with 1 Axes>"
            ]
          },
          "metadata": {
            "needs_background": "light"
          },
          "output_type": "display_data"
        }
      ],
      "source": [
        "plt.matshow(digits.images[90])"
      ]
    },
    {
      "cell_type": "code",
      "execution_count": null,
      "metadata": {
        "colab": {
          "base_uri": "https://localhost:8080/"
        },
        "id": "yKIq41DDcnLI",
        "outputId": "4eb269c6-6636-4f08-aa6f-b974a500e56b"
      },
      "outputs": [
        {
          "data": {
            "text/plain": [
              "1"
            ]
          },
          "execution_count": 92,
          "metadata": {},
          "output_type": "execute_result"
        }
      ],
      "source": [
        "digits.target[1]"
      ]
    },
    {
      "cell_type": "code",
      "execution_count": null,
      "metadata": {
        "colab": {
          "base_uri": "https://localhost:8080/"
        },
        "id": "BtUZGEZMcrA4",
        "outputId": "3d6dc9f2-5376-4de8-9af4-7dce47973478"
      },
      "outputs": [
        {
          "data": {
            "text/plain": [
              "array([1])"
            ]
          },
          "execution_count": 93,
          "metadata": {},
          "output_type": "execute_result"
        }
      ],
      "source": [
        "model.predict([digits.data[90]])"
      ]
    },
    {
      "cell_type": "code",
      "execution_count": null,
      "metadata": {
        "colab": {
          "base_uri": "https://localhost:8080/"
        },
        "id": "CkqTIVVTdKzF",
        "outputId": "7b6c3236-bff5-4b78-811f-31e847911faa"
      },
      "outputs": [
        {
          "data": {
            "text/plain": [
              "array([0, 1, 2, 3, 4, 5, 6, 7, 8, 9, 0, 1, 2, 3, 4, 5, 6, 7, 8, 9, 0, 1,\n",
              "       2, 3, 4, 5, 6, 7, 8, 9, 0, 9, 5, 5, 6, 5, 0, 9, 8, 9, 8, 4, 1, 7,\n",
              "       7, 3, 5, 1, 0, 0, 2, 2, 7, 8, 2, 0, 1, 2, 6, 3, 3, 7, 3, 3, 4, 6,\n",
              "       6, 6, 4, 9, 1, 5, 0, 9, 5, 2, 8, 2, 0, 0, 1, 7, 6, 3, 2, 1, 7, 4,\n",
              "       6, 3, 1, 3, 9, 1, 7, 6, 8, 4, 3])"
            ]
          },
          "execution_count": 94,
          "metadata": {},
          "output_type": "execute_result"
        }
      ],
      "source": [
        "model.predict(digits.data[0:99])"
      ]
    },
    {
      "cell_type": "code",
      "execution_count": null,
      "metadata": {
        "colab": {
          "base_uri": "https://localhost:8080/"
        },
        "id": "AyxIyASYdWt3",
        "outputId": "b939b2ce-5b58-477f-880b-4fe49f6da324"
      },
      "outputs": [
        {
          "data": {
            "text/plain": [
              "array([4, 2, 3, 9, 0, 8, 2, 8, 2, 7, 2, 3, 1, 6, 0, 9, 2, 8, 5, 8, 3, 1,\n",
              "       5, 7, 5, 4, 3, 1, 9, 9, 3, 0, 9, 8, 3, 0, 7, 4, 8, 4, 0, 6, 0, 6,\n",
              "       7, 0, 8, 5, 2, 3, 0, 9, 6, 8, 1, 0, 0, 5, 3, 9, 1, 5, 9, 4, 6, 4,\n",
              "       4, 7, 4, 8, 1, 0, 4, 4, 7, 1, 9, 5, 6, 6, 9, 7, 5, 6, 2, 3, 0, 7,\n",
              "       7, 5, 9, 7, 9, 1, 6, 1, 4, 7, 2, 3, 5, 9, 7, 7, 3, 7, 5, 2, 2, 6,\n",
              "       5, 5, 3, 4, 1, 4, 6, 3, 0, 8, 7, 1, 2, 9, 5, 7, 3, 7, 1, 1, 9, 3,\n",
              "       0, 0, 9, 2, 2, 5, 5, 6, 7, 5, 6, 2, 4, 3, 4, 4, 4, 4, 1, 8, 6, 3,\n",
              "       3, 0, 0, 1, 4, 2, 1, 9, 8, 2, 5, 4, 5, 8, 0, 3, 6, 2, 9, 9, 9, 0,\n",
              "       9, 7, 6, 2, 0, 2, 0, 3, 4, 0, 0, 4, 9, 8, 6, 2, 5, 5, 0, 9, 9, 3,\n",
              "       1, 4, 4, 3, 0, 8, 7, 5, 9, 2, 6, 1, 9, 5, 2, 9, 5, 6, 2, 4, 2, 8,\n",
              "       5, 1, 9, 7, 5, 8, 8, 1, 1, 1, 6, 6, 6, 6, 8, 9, 5, 4, 2, 7, 9, 3,\n",
              "       6, 9, 4, 0, 5, 6, 9, 9, 1, 1, 0, 9, 6, 0, 8, 6, 8, 6, 8, 8, 1, 7,\n",
              "       7, 1, 2, 2, 6, 2, 3, 0, 3, 4, 6, 7, 2, 4, 4, 4, 5, 3, 5, 9, 1, 2,\n",
              "       7, 2, 7, 6, 8, 0, 7, 2, 5, 1, 8, 2, 5, 4, 7, 9, 8, 9, 7, 6, 5, 0,\n",
              "       2, 2, 6, 3, 3, 2, 5, 0, 4, 9, 5, 5, 8, 8, 8, 5, 5, 9, 9, 0, 5, 7,\n",
              "       0, 2, 2, 7, 3, 7, 1, 4, 4, 4, 5, 6, 6, 3, 2, 7, 5, 1, 1, 6, 1, 7,\n",
              "       4, 8, 1, 9, 2, 4, 5, 2])"
            ]
          },
          "execution_count": 95,
          "metadata": {},
          "output_type": "execute_result"
        }
      ],
      "source": [
        "y_predicted = model.predict(X_test)\n",
        "y_predicted"
      ]
    },
    {
      "cell_type": "markdown",
      "metadata": {
        "id": "9TG0llbHdZSj"
      },
      "source": [
        "## Confusion Matrix::\n",
        "A confusion matrix is a table used to evaluate the performance of a classification model, by comparing the predicted and actual values of the target variable. It contains information about the true positive, true negative, false positive, and false negative predictions of the model.\n",
        "\n",
        "In a binary classification problem, the confusion matrix has two rows and two columns. The rows represent the actual classes and the columns represent the predicted classes. The four entries of the matrix are:\n",
        "\n",
        "True Positive (TP): The model predicted positive and it is actually positive\n",
        "\n",
        "False Positive (FP): The model predicted positive but it is actually negative\n",
        "\n",
        "True Negative (TN): The model predicted negative and it is actually negative\n",
        "\n",
        "False Negative (FN): The model predicted negative but it is actually positive\n",
        "\n",
        "The confusion matrix allows us to calculate various performance metrics such as accuracy, precision, recall, and F1-score. It is a useful tool to evaluate the strengths and weaknesses of a classification model and to identify areas for improvement."
      ]
    },
    {
      "cell_type": "code",
      "execution_count": null,
      "metadata": {
        "colab": {
          "base_uri": "https://localhost:8080/"
        },
        "id": "QkigP1XKfBvY",
        "outputId": "7fae2556-d9d8-4ede-8445-45ee1bbe6f69"
      },
      "outputs": [
        {
          "data": {
            "text/plain": [
              "array([[34,  0,  0,  0,  0,  0,  0,  0,  0,  0],\n",
              "       [ 0, 31,  0,  0,  0,  0,  0,  0,  0,  0],\n",
              "       [ 0,  0, 40,  0,  0,  0,  0,  0,  0,  0],\n",
              "       [ 0,  0,  1, 30,  0,  0,  0,  1,  2,  0],\n",
              "       [ 0,  1,  0,  0, 37,  0,  0,  0,  0,  0],\n",
              "       [ 0,  1,  0,  0,  0, 42,  0,  1,  0,  3],\n",
              "       [ 0,  0,  0,  0,  0,  0, 36,  0,  0,  0],\n",
              "       [ 0,  0,  0,  0,  0,  0,  0, 33,  0,  2],\n",
              "       [ 0,  0,  0,  0,  1,  0,  0,  0, 28,  1],\n",
              "       [ 0,  0,  0,  0,  0,  0,  0,  0,  0, 35]])"
            ]
          },
          "execution_count": 99,
          "metadata": {},
          "output_type": "execute_result"
        }
      ],
      "source": [
        "from sklearn.metrics import confusion_matrix, classification_report\n",
        "cm = confusion_matrix(y_test, y_predicted)\n",
        "cm"
      ]
    },
    {
      "cell_type": "code",
      "execution_count": null,
      "metadata": {
        "colab": {
          "base_uri": "https://localhost:8080/",
          "height": 460
        },
        "id": "7K7Ff2JZfZU0",
        "outputId": "dd2f990b-972c-4c41-a365-4f9d9e2ecd39"
      },
      "outputs": [
        {
          "data": {
            "text/plain": [
              "Text(69.0, 0.5, 'Truth')"
            ]
          },
          "execution_count": 100,
          "metadata": {},
          "output_type": "execute_result"
        },
        {
          "data": {
            "image/png": "[encoded data removed]",
            "text/plain": [
              "<Figure size 720x504 with 2 Axes>"
            ]
          },
          "metadata": {
            "needs_background": "light"
          },
          "output_type": "display_data"
        }
      ],
      "source": [
        "import seaborn as sn # A library for visualization, same as matplotlib\n",
        "plt.figure(figsize = (10,7))\n",
        "sn.heatmap(cm, annot=True)\n",
        "plt.xlabel('Predicted')\n",
        "plt.ylabel('Truth')"
      ]
    },
    {
      "cell_type": "markdown",
      "metadata": {
        "id": "AkgpjSNUgh6D"
      },
      "source": [
        "This code creates a heatmap using the seaborn library to visualize the confusion matrix cm. The annot=True argument specifies that the values of the matrix should be displayed within the heatmap. The plt.xlabel and plt.ylabel functions set the labels for the x-axis and y-axis respectively.\n",
        "\n",
        "A confusion matrix is a table used to evaluate the performance of a classification model by comparing the predicted and actual values for a set of test data. The predicted values are shown along the x-axis and the actual values are shown along the y-axis.\n",
        "\n",
        "In the heatmap, the lighter colors indicate higher values, while the darker colors indicate lower values. The diagonal line from the top left to the bottom right represents the correctly predicted values, while the off-diagonal elements represent the incorrectly predicted values. The numbers within the heatmap indicate the number of observations in each category.\n",
        "\n",
        "This visualization can help to identify which categories the model is performing well on and which categories it is not performing well on. It can also help to identify patterns or biases in the errors made by the model."
      ]
    },
    {
      "cell_type": "code",
      "execution_count": null,
      "metadata": {
        "colab": {
          "base_uri": "https://localhost:8080/"
        },
        "id": "ykFdj9VDgQJV",
        "outputId": "58fba321-6308-40f8-d5e9-e32e24d3cf28"
      },
      "outputs": [
        {
          "name": "stdout",
          "output_type": "stream",
          "text": [
            "              precision    recall  f1-score   support\n",
            "\n",
            "           0       1.00      1.00      1.00        34\n",
            "           1       0.94      1.00      0.97        31\n",
            "           2       0.98      1.00      0.99        40\n",
            "           3       1.00      0.88      0.94        34\n",
            "           4       0.97      0.97      0.97        38\n",
            "           5       1.00      0.89      0.94        47\n",
            "           6       1.00      1.00      1.00        36\n",
            "           7       0.94      0.94      0.94        35\n",
            "           8       0.93      0.93      0.93        30\n",
            "           9       0.85      1.00      0.92        35\n",
            "\n",
            "    accuracy                           0.96       360\n",
            "   macro avg       0.96      0.96      0.96       360\n",
            "weighted avg       0.96      0.96      0.96       360\n",
            "\n"
          ]
        }
      ],
      "source": [
        "# Evaluate the model performance\n",
        "print(classification_report(y_test, y_predicted))"
      ]
    },
    {
      "cell_type": "markdown",
      "metadata": {
        "id": "q_26ZiDhliUL"
      },
      "source": [
        "Logistic regression is a binary classification algorithm that is used to classify a dataset into two classes, typically labeled as 0 and 1. However, when dealing with multi-class classification problems, logistic regression can be extended to handle the classification of more than two classes by using a strategy called one-vs-all (OvA) or one-vs-rest (OvR) classification.\n",
        "\n",
        "In OvA classification, we train a separate binary logistic regression classifier for each class against all other classes. For example, in the case of digit recognition, we can train 10 different classifiers for digits 0 to 9, where each classifier will predict whether an input image belongs to its corresponding digit or not. In contrast, in OvR classification, we train one classifier for each class, where each classifier will predict whether an input image belongs to its corresponding class or not.\n",
        "\n",
        "In this example, we first load the digits dataset and split it into training and testing sets. Then, we train a logistic regression model using OvR classification and predict the test set. Finally, we evaluate the model performance using classification report and confusion matrix.\n",
        "\n",
        "The classification_report function displays precision, recall, f1-score, and support for each class. The confusion_matrix function shows the actual and predicted labels for each class, allowing us to analyze the model's performance in more detail. By examining these metrics, we can determine if the logistic regression model is a good fit for the digits dataset.\n"
      ]
    },
    {
      "cell_type": "markdown",
      "metadata": {
        "id": "IupdjoMYm_eq"
      },
      "source": [
        "# Exercise: "
      ]
    },
    {
      "cell_type": "code",
      "execution_count": null,
      "metadata": {
        "colab": {
          "base_uri": "https://localhost:8080/"
        },
        "id": "oeeKk5k8m_JM",
        "outputId": "c4b5ff9b-82d1-48b0-dc66-54a06408077c"
      },
      "outputs": [
        {
          "name": "stdout",
          "output_type": "stream",
          "text": [
            "   sepal length (cm)  sepal width (cm)  petal length (cm)  petal width (cm)  \\\n",
            "0                5.1               3.5                1.4               0.2   \n",
            "1                4.9               3.0                1.4               0.2   \n",
            "2                4.7               3.2                1.3               0.2   \n",
            "3                4.6               3.1                1.5               0.2   \n",
            "4                5.0               3.6                1.4               0.2   \n",
            "\n",
            "   target  \n",
            "0       0  \n",
            "1       0  \n",
            "2       0  \n",
            "3       0  \n",
            "4       0  \n"
          ]
        }
      ],
      "source": [
        "from sklearn.datasets import load_iris\n",
        "import pandas as pd\n",
        "\n",
        "# Load the iris dataset\n",
        "iris = load_iris()\n",
        "\n",
        "# Convert the dataset into a pandas dataframe\n",
        "iris_df = pd.DataFrame(data=iris.data, columns=iris.feature_names)\n",
        "iris_df['target'] = iris.target\n",
        "\n",
        "# Display the first 5 rows of the dataset\n",
        "print(iris_df.head())\n"
      ]
    },
    {
      "cell_type": "markdown",
      "metadata": {
        "id": "dqFrLGMsnvex"
      },
      "source": [
        "In the above code, we load the iris dataset and convert it into a pandas dataframe. We also add a new column 'target' to the dataframe, which represents the species of the iris flowers. We then display the first 5 rows of the dataset."
      ]
    },
    {
      "cell_type": "code",
      "execution_count": null,
      "metadata": {
        "colab": {
          "base_uri": "https://localhost:8080/"
        },
        "id": "LpDB0701nxkN",
        "outputId": "923c65e2-218c-429a-f445-14511aee490f"
      },
      "outputs": [
        {
          "name": "stdout",
          "output_type": "stream",
          "text": [
            "Accuracy: 1.0\n"
          ]
        },
        {
          "name": "stderr",
          "output_type": "stream",
          "text": [
            "/usr/local/lib/python3.9/dist-packages/sklearn/linear_model/_logistic.py:458: ConvergenceWarning: lbfgs failed to converge (status=1):\n",
            "STOP: TOTAL NO. of ITERATIONS REACHED LIMIT.\n",
            "\n",
            "Increase the number of iterations (max_iter) or scale the data as shown in:\n",
            "    https://scikit-learn.org/stable/modules/preprocessing.html\n",
            "Please also refer to the documentation for alternative solver options:\n",
            "    https://scikit-learn.org/stable/modules/linear_model.html#logistic-regression\n",
            "  n_iter_i = _check_optimize_result(\n"
          ]
        }
      ],
      "source": [
        "from sklearn.model_selection import train_test_split\n",
        "from sklearn.linear_model import LogisticRegression\n",
        "from sklearn.metrics import accuracy_score\n",
        "\n",
        "# Split the dataset into training and testing sets\n",
        "X_train, X_test, y_train, y_test = train_test_split(iris.data, iris.target, test_size=0.2, random_state=42)\n",
        "\n",
        "# Create a logistic regression model and fit it on the training data\n",
        "model = LogisticRegression()\n",
        "model.fit(X_train, y_train)\n",
        "\n",
        "# Predict the species of the iris flowers in the testing set\n",
        "y_pred = model.predict(X_test)\n",
        "\n",
        "# Calculate the accuracy of the model\n",
        "accuracy = accuracy_score(y_test, y_pred)\n",
        "print(\"Accuracy:\", accuracy)\n"
      ]
    },
    {
      "cell_type": "code",
      "execution_count": null,
      "metadata": {
        "colab": {
          "base_uri": "https://localhost:8080/"
        },
        "id": "vyUjH2rNn2rV",
        "outputId": "71acac99-29cd-4145-f1d0-94a23b2c8d76"
      },
      "outputs": [
        {
          "data": {
            "text/plain": [
              "array([1, 0, 2, 1, 1, 0, 1, 2, 1, 1, 2, 0, 0, 0, 0, 1, 2, 1, 1, 2, 0, 2,\n",
              "       0, 2, 2, 2, 2, 2, 0, 0])"
            ]
          },
          "execution_count": 111,
          "metadata": {},
          "output_type": "execute_result"
        }
      ],
      "source": [
        "y_predicted = model.predict(X_test)\n",
        "y_predicted"
      ]
    },
    {
      "cell_type": "code",
      "execution_count": null,
      "metadata": {
        "colab": {
          "base_uri": "https://localhost:8080/"
        },
        "id": "Blk_BDrMoF1Y",
        "outputId": "4a78c0a3-8685-42b1-f3b8-e914563111e1"
      },
      "outputs": [
        {
          "data": {
            "text/plain": [
              "array([1, 0, 2, 1, 1, 0, 1, 2, 1, 1, 2, 0, 0, 0, 0, 1, 2, 1, 1, 2, 0, 2,\n",
              "       0, 2, 2, 2, 2, 2, 0, 0])"
            ]
          },
          "execution_count": 107,
          "metadata": {},
          "output_type": "execute_result"
        }
      ],
      "source": [
        "y_test"
      ]
    },
    {
      "cell_type": "code",
      "execution_count": null,
      "metadata": {
        "colab": {
          "base_uri": "https://localhost:8080/"
        },
        "id": "RWDZxhOPoNjS",
        "outputId": "0d924c42-5af1-4367-ce56-35c64a8449b1"
      },
      "outputs": [
        {
          "data": {
            "text/plain": [
              "array([[10,  0,  0],\n",
              "       [ 0,  9,  0],\n",
              "       [ 0,  0, 11]])"
            ]
          },
          "execution_count": 112,
          "metadata": {},
          "output_type": "execute_result"
        }
      ],
      "source": [
        "from sklearn.metrics import confusion_matrix\n",
        "cm = confusion_matrix(y_test, y_predicted)\n",
        "cm"
      ]
    },
    {
      "cell_type": "code",
      "execution_count": null,
      "metadata": {
        "id": "lvitVsSIpGas"
      },
      "outputs": [],
      "source": []
    },
    {
      "cell_type": "code",
      "execution_count": null,
      "metadata": {
        "colab": {
          "base_uri": "https://localhost:8080/",
          "height": 460
        },
        "id": "pkzPM_OupJlX",
        "outputId": "c08d9919-7a35-4d8e-ef7b-d78dc682c8b1"
      },
      "outputs": [
        {
          "data": {
            "text/plain": [
              "Text(69.0, 0.5, 'Truth')"
            ]
          },
          "execution_count": 114,
          "metadata": {},
          "output_type": "execute_result"
        },
        {
          "data": {
            "image/png": "[encoded data removed]",
            "text/plain": [
              "<Figure size 720x504 with 2 Axes>"
            ]
          },
          "metadata": {
            "needs_background": "light"
          },
          "output_type": "display_data"
        }
      ],
      "source": [
        "import seaborn as sn # A library for visualization, same as matplotlib\n",
        "plt.figure(figsize = (10,7))\n",
        "sn.heatmap(cm, annot=True)\n",
        "plt.xlabel('Predicted')\n",
        "plt.ylabel('Truth')"
      ]
    }
  ],
  "metadata": {
    "colab": {
      "provenance": []
    },
    "kernelspec": {
      "display_name": "Python 3",
      "name": "python3"
    },
    "language_info": {
      "name": "python"
    }
  },
  "nbformat": 4,
  "nbformat_minor": 0
}
