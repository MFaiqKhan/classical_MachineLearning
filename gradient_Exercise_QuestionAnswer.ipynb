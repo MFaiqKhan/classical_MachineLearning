{
  "nbformat": 4,
  "nbformat_minor": 0,
  "metadata": {
    "colab": {
      "provenance": [],
      "authorship_tag": "ABX9TyMpWZhJDO0QFqoafL4TrLBB",
      "include_colab_link": true
    },
    "kernelspec": {
      "name": "python3",
      "display_name": "Python 3"
    },
    "language_info": {
      "name": "python"
    }
  },
  "cells": [
    {
      "cell_type": "markdown",
      "metadata": {
        "id": "view-in-github",
        "colab_type": "text"
      },
      "source": [
        "<a href=\"https://colab.research.google.com/github/MFaiqKhan/classical_MachineLearning/blob/main/gradient_Exercise_QuestionAnswer.ipynb\" target=\"_parent\"><img src=\"https://colab.research.google.com/assets/colab-badge.svg\" alt=\"Open In Colab\"/></a>"
      ]
    },
    {
      "cell_type": "code",
      "execution_count": 2,
      "metadata": {
        "id": "Bn5b1sh_KW7h"
      },
      "outputs": [],
      "source": [
        "import pandas as pd\n",
        "import numpy as np\n",
        "from sklearn.linear_model import LinearRegression\n",
        "import math "
      ]
    },
    {
      "cell_type": "code",
      "source": [
        "df = pd.read_csv(\"test_scores.csv\")\n",
        "df"
      ],
      "metadata": {
        "colab": {
          "base_uri": "https://localhost:8080/",
          "height": 322
        },
        "id": "RWd953DifKdY",
        "outputId": "89114ad5-691d-4758-811a-6eb472fb85d0"
      },
      "execution_count": 14,
      "outputs": [
        {
          "output_type": "execute_result",
          "data": {
            "text/plain": [
              "     name  math  cs\n",
              "0   david    92  98\n",
              "1   laura    56  68\n",
              "2  sanjay    88  81\n",
              "3     wei    70  80\n",
              "4    jeff    80  83\n",
              "5   aamir    49  52\n",
              "6  venkat    65  66\n",
              "7   virat    35  30\n",
              "8  arthur    66  68\n",
              "9    paul    67  73"
            ],
            "text/html": [
              "\n",
              "  <div id=\"df-df86226e-2555-46c2-86eb-7f16a6d648eb\">\n",
              "    <div class=\"colab-df-container\">\n",
              "      <div>\n",
              "<style scoped>\n",
              "    .dataframe tbody tr th:only-of-type {\n",
              "        vertical-align: middle;\n",
              "    }\n",
              "\n",
              "    .dataframe tbody tr th {\n",
              "        vertical-align: top;\n",
              "    }\n",
              "\n",
              "    .dataframe thead th {\n",
              "        text-align: right;\n",
              "    }\n",
              "</style>\n",
              "<table border=\"1\" class=\"dataframe\">\n",
              "  <thead>\n",
              "    <tr style=\"text-align: right;\">\n",
              "      <th></th>\n",
              "      <th>name</th>\n",
              "      <th>math</th>\n",
              "      <th>cs</th>\n",
              "    </tr>\n",
              "  </thead>\n",
              "  <tbody>\n",
              "    <tr>\n",
              "      <th>0</th>\n",
              "      <td>david</td>\n",
              "      <td>92</td>\n",
              "      <td>98</td>\n",
              "    </tr>\n",
              "    <tr>\n",
              "      <th>1</th>\n",
              "      <td>laura</td>\n",
              "      <td>56</td>\n",
              "      <td>68</td>\n",
              "    </tr>\n",
              "    <tr>\n",
              "      <th>2</th>\n",
              "      <td>sanjay</td>\n",
              "      <td>88</td>\n",
              "      <td>81</td>\n",
              "    </tr>\n",
              "    <tr>\n",
              "      <th>3</th>\n",
              "      <td>wei</td>\n",
              "      <td>70</td>\n",
              "      <td>80</td>\n",
              "    </tr>\n",
              "    <tr>\n",
              "      <th>4</th>\n",
              "      <td>jeff</td>\n",
              "      <td>80</td>\n",
              "      <td>83</td>\n",
              "    </tr>\n",
              "    <tr>\n",
              "      <th>5</th>\n",
              "      <td>aamir</td>\n",
              "      <td>49</td>\n",
              "      <td>52</td>\n",
              "    </tr>\n",
              "    <tr>\n",
              "      <th>6</th>\n",
              "      <td>venkat</td>\n",
              "      <td>65</td>\n",
              "      <td>66</td>\n",
              "    </tr>\n",
              "    <tr>\n",
              "      <th>7</th>\n",
              "      <td>virat</td>\n",
              "      <td>35</td>\n",
              "      <td>30</td>\n",
              "    </tr>\n",
              "    <tr>\n",
              "      <th>8</th>\n",
              "      <td>arthur</td>\n",
              "      <td>66</td>\n",
              "      <td>68</td>\n",
              "    </tr>\n",
              "    <tr>\n",
              "      <th>9</th>\n",
              "      <td>paul</td>\n",
              "      <td>67</td>\n",
              "      <td>73</td>\n",
              "    </tr>\n",
              "  </tbody>\n",
              "</table>\n",
              "</div>\n",
              "      <button class=\"colab-df-convert\" onclick=\"convertToInteractive('df-df86226e-2555-46c2-86eb-7f16a6d648eb')\"\n",
              "              title=\"Convert this dataframe to an interactive table.\"\n",
              "              style=\"display:none;\">\n",
              "        \n",
              "  <svg xmlns=\"http://www.w3.org/2000/svg\" height=\"24px\"viewBox=\"0 0 24 24\"\n",
              "       width=\"24px\">\n",
              "    <path d=\"M0 0h24v24H0V0z\" fill=\"none\"/>\n",
              "    <path d=\"M18.56 5.44l.94 2.06.94-2.06 2.06-.94-2.06-.94-.94-2.06-.94 2.06-2.06.94zm-11 1L8.5 8.5l.94-2.06 2.06-.94-2.06-.94L8.5 2.5l-.94 2.06-2.06.94zm10 10l.94 2.06.94-2.06 2.06-.94-2.06-.94-.94-2.06-.94 2.06-2.06.94z\"/><path d=\"M17.41 7.96l-1.37-1.37c-.4-.4-.92-.59-1.43-.59-.52 0-1.04.2-1.43.59L10.3 9.45l-7.72 7.72c-.78.78-.78 2.05 0 2.83L4 21.41c.39.39.9.59 1.41.59.51 0 1.02-.2 1.41-.59l7.78-7.78 2.81-2.81c.8-.78.8-2.07 0-2.86zM5.41 20L4 18.59l7.72-7.72 1.47 1.35L5.41 20z\"/>\n",
              "  </svg>\n",
              "      </button>\n",
              "      \n",
              "  <style>\n",
              "    .colab-df-container {\n",
              "      display:flex;\n",
              "      flex-wrap:wrap;\n",
              "      gap: 12px;\n",
              "    }\n",
              "\n",
              "    .colab-df-convert {\n",
              "      background-color: #E8F0FE;\n",
              "      border: none;\n",
              "      border-radius: 50%;\n",
              "      cursor: pointer;\n",
              "      display: none;\n",
              "      fill: #1967D2;\n",
              "      height: 32px;\n",
              "      padding: 0 0 0 0;\n",
              "      width: 32px;\n",
              "    }\n",
              "\n",
              "    .colab-df-convert:hover {\n",
              "      background-color: #E2EBFA;\n",
              "      box-shadow: 0px 1px 2px rgba(60, 64, 67, 0.3), 0px 1px 3px 1px rgba(60, 64, 67, 0.15);\n",
              "      fill: #174EA6;\n",
              "    }\n",
              "\n",
              "    [theme=dark] .colab-df-convert {\n",
              "      background-color: #3B4455;\n",
              "      fill: #D2E3FC;\n",
              "    }\n",
              "\n",
              "    [theme=dark] .colab-df-convert:hover {\n",
              "      background-color: #434B5C;\n",
              "      box-shadow: 0px 1px 3px 1px rgba(0, 0, 0, 0.15);\n",
              "      filter: drop-shadow(0px 1px 2px rgba(0, 0, 0, 0.3));\n",
              "      fill: #FFFFFF;\n",
              "    }\n",
              "  </style>\n",
              "\n",
              "      <script>\n",
              "        const buttonEl =\n",
              "          document.querySelector('#df-df86226e-2555-46c2-86eb-7f16a6d648eb button.colab-df-convert');\n",
              "        buttonEl.style.display =\n",
              "          google.colab.kernel.accessAllowed ? 'block' : 'none';\n",
              "\n",
              "        async function convertToInteractive(key) {\n",
              "          const element = document.querySelector('#df-df86226e-2555-46c2-86eb-7f16a6d648eb');\n",
              "          const dataTable =\n",
              "            await google.colab.kernel.invokeFunction('convertToInteractive',\n",
              "                                                     [key], {});\n",
              "          if (!dataTable) return;\n",
              "\n",
              "          const docLinkHtml = 'Like what you see? Visit the ' +\n",
              "            '<a target=\"_blank\" href=https://colab.research.google.com/notebooks/data_table.ipynb>data table notebook</a>'\n",
              "            + ' to learn more about interactive tables.';\n",
              "          element.innerHTML = '';\n",
              "          dataTable['output_type'] = 'display_data';\n",
              "          await google.colab.output.renderOutput(dataTable, element);\n",
              "          const docLink = document.createElement('div');\n",
              "          docLink.innerHTML = docLinkHtml;\n",
              "          element.appendChild(docLink);\n",
              "        }\n",
              "      </script>\n",
              "    </div>\n",
              "  </div>\n",
              "  "
            ]
          },
          "metadata": {},
          "execution_count": 14
        }
      ]
    },
    {
      "cell_type": "code",
      "source": [
        "def gradient_descent(x,y):\n",
        "  m_curr = b_curr = 0 # start with initial guesses always.\n",
        "  iterations = 1000000\n",
        "  n = len(x)\n",
        "  learning_rate = 0.0002\n",
        "\n",
        "  cost_previous = 0\n",
        "\n",
        "  for i in range(iterations):\n",
        "    y_predicted = m_curr * x + b_curr\n",
        "    cost = (1/2)*sum([value**2 for value in (y-y_predicted)])\n",
        "    md = -(2/n)*sum(x*(y-y_predicted))\n",
        "    bd = -(2/n)*sum(y-y_predicted)\n",
        "    m_curr = m_curr - learning_rate *md\n",
        "    b_curr = b_curr - learning_rate *bd\n",
        "\n",
        "    if math.isclose(cost, cost_previous, rel_tol=1e-20):\n",
        "      break\n",
        "    cost_previous = cost\n",
        "  print (\"m {}, b {}, cost {}, iteration {}\".format(m_curr,b_curr,cost, i))\n",
        "\n",
        "  return m_curr, b_curr\n",
        "\n",
        "def sklearn_predict():\n",
        "  df = pd.read_csv(\"test_scores.csv\")\n",
        "  r = LinearRegression()\n",
        "  r.fit(df[['math']],df.cs)\n",
        "  return r.coef_, r.intercept_\n",
        "\n",
        "if __name__ == \"__main__\":\n",
        "  df = pd.read_csv(\"test_scores.csv\")\n",
        "  x = np.array(df.math)\n",
        "  y = np.array(df.cs)\n",
        "\n",
        "  m, b = gradient_descent(x,y)\n",
        "  print(\"Using gradient descent function: Coef {} Intercept {}\".format(m, b))\n",
        "\n",
        "  m_sklearn, b_sklearn = sklearn_predict()\n",
        "  print(\"Using sklearn: Coef {} Intercept {}\".format(m_sklearn,b_sklearn))\n",
        "\n",
        "    \n"
      ],
      "metadata": {
        "colab": {
          "base_uri": "https://localhost:8080/"
        },
        "id": "SgVPZwW-LZjK",
        "outputId": "9c028161-c244-4935-ed71-0667101908f3"
      },
      "execution_count": 13,
      "outputs": [
        {
          "output_type": "stream",
          "name": "stdout",
          "text": [
            "m 1.0177381667350405, b 1.9150826165722297, cost 158.02255667301148, iteration 415533\n",
            "Using gradient descent function: Coef 1.0177381667350405 Intercept 1.9150826165722297\n",
            "Using sklearn: Coef [1.01773624] Intercept 1.9152193111569034\n"
          ]
        }
      ]
    },
    {
      "cell_type": "markdown",
      "source": [
        "In the context of linear regression, the goal is to find the best-fit line that can predict the output values for a given set of input values. The line is represented by the equation:\n",
        "\n",
        "\n",
        "`y_predicted = mx + b`\n",
        "where m and b are the slope and intercept of the line, respectively.\n",
        "\n",
        "The md and bd variables in the code snippet are the partial derivatives of the Mean Squared Error (MSE) cost function with respect to m and b, respectively. These partial derivatives are used in the gradient descent algorithm to update the values of m and b to minimize the cost function.\n",
        "\n",
        "The partial derivative of the MSE cost function with respect to m is:\n",
        "\n",
        "\n",
        "`md = (1/n) * sum(x*(y - y_predicted))`\n",
        "This expression computes the average of the product of each input value x and the corresponding error (y - y_predicted). The factor of 1/n scales the sum to compute the average.\n",
        "\n",
        "Similarly, the partial derivative of the MSE cost function with respect to b is:\n",
        "\n",
        "\n",
        "`bd = (1/n) * sum(y - y_predicted)`\n",
        "This expression computes the average of the errors (y - y_predicted).\n",
        "\n",
        "The negative sign in front of each expression indicates that the algorithm is performing gradient descent in the opposite direction of the gradient to minimize the cost function. The factor of 2 is included for convenience to simplify the computation of the partial derivatives, but it does not change the direction of the gradient descent. The factor of 1/n scales the sum to compute the average gradient."
      ],
      "metadata": {
        "id": "vgV4_cs_WxnV"
      }
    },
    {
      "cell_type": "markdown",
      "source": [],
      "metadata": {
        "id": "RQwctAsxfhMK"
      }
    },
    {
      "cell_type": "markdown",
      "source": [
        "The gradient_descent function takes in two arrays, x and y, which contain the input and output values of the dataset, respectively. The function starts by initializing the slope and y-intercept of the linear regression line to 0. It also sets the number of iterations, learning rate, and the previous cost to 0.\n",
        "In the for loop, the function iteratively updates the slope and y-intercept based on the cost of the previous iteration until the cost difference between consecutive iterations falls below a certain tolerance level. The cost is calculated using the mean squared error (MSE) formula, which measures the difference between the predicted and actual output values. The slope and y-intercept are updated using the gradient descent formula, which minimizes the cost function. Finally, the function prints out the optimal slope, y-intercept, cost, and iteration number.\n",
        "\n",
        "The sklearn_predict function reads in the same dataset as gradient_descent and uses the scikit-learn library to perform linear regression on it. The function fits a linear regression model to the data and returns the slope and y-intercept of the model.\n",
        "\n",
        "\n",
        "Comparing the output from both functions"
      ],
      "metadata": {
        "id": "642ptrXofh2P"
      }
    }
  ]
}